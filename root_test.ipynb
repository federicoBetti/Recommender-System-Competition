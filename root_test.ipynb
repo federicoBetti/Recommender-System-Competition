{
 "cells": [
  {
   "cell_type": "code",
   "execution_count": 30,
   "metadata": {},
   "outputs": [],
   "source": [
    "import pandas as pd\n",
    "import networkx as nx\n",
    "import numpy as np\n",
    "import os\n",
    "import random\n",
    "from scipy import sparse\n",
    "from Dataset.RS_Data_Loader import RS_Data_Loader\n",
    "from page_rank import pageRank\n",
    "import importlib"
   ]
  },
  {
   "cell_type": "code",
   "execution_count": 28,
   "metadata": {},
   "outputs": [],
   "source": [
    "def compute_PageRank(G, beta=0.85, epsilon=10**-4):\n",
    "    '''\n",
    "    Efficient computation of the PageRank values using a sparse adjacency \n",
    "    matrix and the iterative power method.\n",
    "    \n",
    "    Parameters\n",
    "    ----------\n",
    "    G : boolean adjacency matrix. np.bool8\n",
    "        If the element j,i is True, means that there is a link from i to j.\n",
    "    beta: 1-teleportation probability.\n",
    "    epsilon: stop condition. Minimum allowed amount of change in the PageRanks\n",
    "        between iterations.\n",
    "\n",
    "    Returns\n",
    "    -------\n",
    "    output : tuple\n",
    "        PageRank array normalized top one.\n",
    "        Number of iterations.\n",
    "\n",
    "    '''    \n",
    "    #Test adjacency matrix is OK\n",
    "    n,_ = G.shape\n",
    "    assert(G.shape==(n,n))\n",
    "    #Constants Speed-UP\n",
    "    deg_out_beta = G.sum(axis=0).T/beta #vector\n",
    "    #Initialize\n",
    "    ranks = np.ones((n,1))/n #vector\n",
    "    time = 0\n",
    "    flag = True\n",
    "    while flag:        \n",
    "        time +=1\n",
    "        with np.errstate(divide='ignore'): # Ignore division by 0 on ranks/deg_out_beta\n",
    "            new_ranks = G.dot((ranks/deg_out_beta)) #vector\n",
    "        #Leaked PageRank\n",
    "        new_ranks += (1-new_ranks.sum())/n\n",
    "        #Stop condition\n",
    "        if np.linalg.norm(ranks-new_ranks,ord=1)<=epsilon:\n",
    "            flag = False        \n",
    "        ranks = new_ranks\n",
    "    return ranks / ranks.max()"
   ]
  },
  {
   "cell_type": "code",
   "execution_count": 69,
   "metadata": {},
   "outputs": [
    {
     "ename": "NameError",
     "evalue": "name 'page_rank' is not defined",
     "output_type": "error",
     "traceback": [
      "\u001b[0;31m---------------------------------------------------------------------------\u001b[0m",
      "\u001b[0;31mNameError\u001b[0m                                 Traceback (most recent call last)",
      "\u001b[0;32m<ipython-input-69-f926740cce57>\u001b[0m in \u001b[0;36m<module>\u001b[0;34m()\u001b[0m\n\u001b[0;32m----> 1\u001b[0;31m \u001b[0mimportlib\u001b[0m\u001b[0;34m.\u001b[0m\u001b[0mreload\u001b[0m\u001b[0;34m(\u001b[0m\u001b[0mpage_rank\u001b[0m\u001b[0;34m.\u001b[0m\u001b[0mpy\u001b[0m\u001b[0;34m)\u001b[0m\u001b[0;34m\u001b[0m\u001b[0m\n\u001b[0m",
      "\u001b[0;31mNameError\u001b[0m: name 'page_rank' is not defined"
     ]
    }
   ],
   "source": [
    "importlib.reload(page_rank.py)"
   ]
  },
  {
   "cell_type": "code",
   "execution_count": 2,
   "metadata": {},
   "outputs": [
    {
     "name": "stdout",
     "output_type": "stream",
     "text": [
      "RS_Data_Loader: loading data...\n",
      "RS_Data_Loader: loading complete\n"
     ]
    }
   ],
   "source": [
    "dataReader = RS_Data_Loader()\n",
    "\n",
    "URM_train = dataReader.get_URM_train()\n",
    "URM_validation = dataReader.get_URM_validation()\n",
    "URM_test = dataReader.get_URM_test()\n",
    "#ICM = dataReader.get_ICM()"
   ]
  },
  {
   "cell_type": "code",
   "execution_count": 76,
   "metadata": {},
   "outputs": [],
   "source": [
    "relation_mat = URM_train.transpose().dot(URM_train).tocsc()"
   ]
  },
  {
   "cell_type": "code",
   "execution_count": 77,
   "metadata": {},
   "outputs": [
    {
     "data": {
      "text/plain": [
       "array([[19,  0,  0, ...,  0,  0,  0]])"
      ]
     },
     "execution_count": 77,
     "metadata": {},
     "output_type": "execute_result"
    }
   ],
   "source": [
    "r0 = relation_mat[0].A\n",
    "r0"
   ]
  },
  {
   "cell_type": "code",
   "execution_count": 78,
   "metadata": {},
   "outputs": [
    {
     "data": {
      "text/plain": [
       "<20635x20635 sparse matrix of type '<class 'numpy.int64'>'\n",
       "\twith 10460699 stored elements in Compressed Sparse Column format>"
      ]
     },
     "execution_count": 78,
     "metadata": {},
     "output_type": "execute_result"
    }
   ],
   "source": [
    "relation_mat"
   ]
  },
  {
   "cell_type": "code",
   "execution_count": 79,
   "metadata": {},
   "outputs": [],
   "source": [
    "user_id = 0\n",
    "songs_in_playlist = URM_train.indices[URM_train.indptr[user_id]:URM_train.indptr[user_id + 1]]"
   ]
  },
  {
   "cell_type": "code",
   "execution_count": 80,
   "metadata": {},
   "outputs": [],
   "source": [
    "l = range(URM_train.shape[1])\n",
    "s_all = set(l)"
   ]
  },
  {
   "cell_type": "code",
   "execution_count": 81,
   "metadata": {},
   "outputs": [
    {
     "data": {
      "text/plain": [
       "array([ 1220,  8360, 12844, 14301], dtype=int32)"
      ]
     },
     "execution_count": 81,
     "metadata": {},
     "output_type": "execute_result"
    }
   ],
   "source": [
    "songs_in_playlist"
   ]
  },
  {
   "cell_type": "code",
   "execution_count": 82,
   "metadata": {},
   "outputs": [],
   "source": [
    "s_0 = s_all - set(songs_in_playlist)"
   ]
  },
  {
   "cell_type": "code",
   "execution_count": 83,
   "metadata": {},
   "outputs": [],
   "source": [
    "for i in s_0:\n",
    "    relation_mat.data[relation_mat.indptr[i]:relation_mat.indptr[i+1]].fill(0)\n",
    "relation_mat.eliminate_zeros()"
   ]
  },
  {
   "cell_type": "code",
   "execution_count": 111,
   "metadata": {},
   "outputs": [
    {
     "name": "stdout",
     "output_type": "stream",
     "text": [
      "47.5 ms ± 677 µs per loop (mean ± std. dev. of 7 runs, 10 loops each)\n"
     ]
    }
   ],
   "source": [
    "%%timeit\n",
    "a = compute_PageRank(relation_mat.transpose())[0]"
   ]
  },
  {
   "cell_type": "code",
   "execution_count": 86,
   "metadata": {},
   "outputs": [
    {
     "data": {
      "text/plain": [
       "matrix([[0.02241312]])"
      ]
     },
     "execution_count": 86,
     "metadata": {},
     "output_type": "execute_result"
    }
   ],
   "source": [
    "a[1220]"
   ]
  },
  {
   "cell_type": "code",
   "execution_count": 118,
   "metadata": {},
   "outputs": [],
   "source": [
    "b = (a / a.max()).A1"
   ]
  },
  {
   "cell_type": "code",
   "execution_count": 120,
   "metadata": {},
   "outputs": [
    {
     "data": {
      "text/plain": [
       "matrix([[0.0001372],\n",
       "        [0.0001372],\n",
       "        [0.0001372],\n",
       "        ...,\n",
       "        [0.0001372],\n",
       "        [0.0001372],\n",
       "        [0.0001372]])"
      ]
     },
     "execution_count": 120,
     "metadata": {},
     "output_type": "execute_result"
    }
   ],
   "source": [
    "b"
   ]
  },
  {
   "cell_type": "code",
   "execution_count": 89,
   "metadata": {},
   "outputs": [
    {
     "name": "stdout",
     "output_type": "stream",
     "text": [
      "[[0.11455208]] [[0.95930704]] [[0.20659116]]\n"
     ]
    }
   ],
   "source": [
    "print(b[1220], b[8360], b[12844])"
   ]
  },
  {
   "cell_type": "code",
   "execution_count": 91,
   "metadata": {},
   "outputs": [
    {
     "data": {
      "text/plain": [
       "matrix([[2.28045027]])"
      ]
     },
     "execution_count": 91,
     "metadata": {},
     "output_type": "execute_result"
    }
   ],
   "source": [
    "URM_train[0] * b"
   ]
  },
  {
   "cell_type": "code",
   "execution_count": 94,
   "metadata": {},
   "outputs": [
    {
     "data": {
      "text/plain": [
       "array([2.28045027])"
      ]
     },
     "execution_count": 94,
     "metadata": {},
     "output_type": "execute_result"
    }
   ],
   "source": [
    "URM_train[0] * b"
   ]
  },
  {
   "cell_type": "code",
   "execution_count": 108,
   "metadata": {},
   "outputs": [],
   "source": [
    "URM_train = URM_train.astype(float)"
   ]
  },
  {
   "cell_type": "code",
   "execution_count": 109,
   "metadata": {},
   "outputs": [
    {
     "data": {
      "text/plain": [
       "<50446x20635 sparse matrix of type '<class 'numpy.float64'>'\n",
       "\twith 949248 stored elements in Compressed Sparse Row format>"
      ]
     },
     "execution_count": 109,
     "metadata": {},
     "output_type": "execute_result"
    }
   ],
   "source": [
    "URM_train"
   ]
  },
  {
   "cell_type": "code",
   "execution_count": 105,
   "metadata": {},
   "outputs": [
    {
     "data": {
      "text/plain": [
       "array([0.11455208, 0.95930704, 0.20659116, 1.        ])"
      ]
     },
     "execution_count": 105,
     "metadata": {},
     "output_type": "execute_result"
    }
   ],
   "source": [
    "b[songs_in_playlist]"
   ]
  },
  {
   "cell_type": "code",
   "execution_count": 110,
   "metadata": {},
   "outputs": [],
   "source": [
    "URM_train[0].data *= b[songs_in_playlist]"
   ]
  },
  {
   "cell_type": "code",
   "execution_count": 99,
   "metadata": {},
   "outputs": [
    {
     "data": {
      "text/plain": [
       "array([1, 1, 1, 1])"
      ]
     },
     "execution_count": 99,
     "metadata": {},
     "output_type": "execute_result"
    }
   ],
   "source": [
    "URM_train[0].data"
   ]
  },
  {
   "cell_type": "code",
   "execution_count": 117,
   "metadata": {},
   "outputs": [
    {
     "name": "stdout",
     "output_type": "stream",
     "text": [
      "58.7 µs ± 4.2 µs per loop (mean ± std. dev. of 7 runs, 10000 loops each)\n"
     ]
    }
   ],
   "source": [
    "%%timeit\n",
    "URM_train[0].data *= b[songs_in_playlist]"
   ]
  },
  {
   "cell_type": "code",
   "execution_count": null,
   "metadata": {},
   "outputs": [],
   "source": []
  }
 ],
 "metadata": {
  "kernelspec": {
   "display_name": "Python 3",
   "language": "python",
   "name": "python3"
  },
  "language_info": {
   "codemirror_mode": {
    "name": "ipython",
    "version": 3
   },
   "file_extension": ".py",
   "mimetype": "text/x-python",
   "name": "python",
   "nbconvert_exporter": "python",
   "pygments_lexer": "ipython3",
   "version": "3.7.0"
  }
 },
 "nbformat": 4,
 "nbformat_minor": 1
}
